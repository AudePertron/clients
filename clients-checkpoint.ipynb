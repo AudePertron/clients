{
 "cells": [
  {
   "cell_type": "markdown",
   "metadata": {},
   "source": [
    "# Taux de désabonnement des clients d'une entreprise\n",
    "\n",
    "## 1. Récupération et préparation des données"
   ]
  },
  {
   "cell_type": "code",
   "execution_count": 46,
   "metadata": {},
   "outputs": [],
   "source": [
    "import pandas as pd\n",
    "import numpy as np\n",
    "import matplotlib.pyplot as plt"
   ]
  },
  {
   "cell_type": "code",
   "execution_count": 2,
   "metadata": {},
   "outputs": [
    {
     "data": {
      "text/html": [
       "<div>\n",
       "<style scoped>\n",
       "    .dataframe tbody tr th:only-of-type {\n",
       "        vertical-align: middle;\n",
       "    }\n",
       "\n",
       "    .dataframe tbody tr th {\n",
       "        vertical-align: top;\n",
       "    }\n",
       "\n",
       "    .dataframe thead th {\n",
       "        text-align: right;\n",
       "    }\n",
       "</style>\n",
       "<table border=\"1\" class=\"dataframe\">\n",
       "  <thead>\n",
       "    <tr style=\"text-align: right;\">\n",
       "      <th></th>\n",
       "      <th>num_ligne</th>\n",
       "      <th>ID_Client</th>\n",
       "      <th>Nom</th>\n",
       "      <th>Score_Credit</th>\n",
       "      <th>Pays</th>\n",
       "      <th>Sex</th>\n",
       "      <th>Age</th>\n",
       "      <th>Tenure</th>\n",
       "      <th>Balance</th>\n",
       "      <th>Num_Produit</th>\n",
       "      <th>il_a_CrCard</th>\n",
       "      <th>Membre_actif</th>\n",
       "      <th>Salaire_estime</th>\n",
       "      <th>Exited</th>\n",
       "    </tr>\n",
       "  </thead>\n",
       "  <tbody>\n",
       "    <tr>\n",
       "      <th>0</th>\n",
       "      <td>1</td>\n",
       "      <td>15634602</td>\n",
       "      <td>Hargrave</td>\n",
       "      <td>619</td>\n",
       "      <td>France</td>\n",
       "      <td>Female</td>\n",
       "      <td>42</td>\n",
       "      <td>2</td>\n",
       "      <td>0.00</td>\n",
       "      <td>1</td>\n",
       "      <td>1</td>\n",
       "      <td>1</td>\n",
       "      <td>101348.88</td>\n",
       "      <td>1</td>\n",
       "    </tr>\n",
       "    <tr>\n",
       "      <th>1</th>\n",
       "      <td>2</td>\n",
       "      <td>15647311</td>\n",
       "      <td>Hill</td>\n",
       "      <td>608</td>\n",
       "      <td>Spain</td>\n",
       "      <td>Female</td>\n",
       "      <td>41</td>\n",
       "      <td>1</td>\n",
       "      <td>83807.86</td>\n",
       "      <td>1</td>\n",
       "      <td>0</td>\n",
       "      <td>1</td>\n",
       "      <td>112542.58</td>\n",
       "      <td>0</td>\n",
       "    </tr>\n",
       "    <tr>\n",
       "      <th>2</th>\n",
       "      <td>3</td>\n",
       "      <td>15619304</td>\n",
       "      <td>Onio</td>\n",
       "      <td>502</td>\n",
       "      <td>France</td>\n",
       "      <td>Female</td>\n",
       "      <td>42</td>\n",
       "      <td>8</td>\n",
       "      <td>159660.80</td>\n",
       "      <td>3</td>\n",
       "      <td>1</td>\n",
       "      <td>0</td>\n",
       "      <td>113931.57</td>\n",
       "      <td>1</td>\n",
       "    </tr>\n",
       "    <tr>\n",
       "      <th>3</th>\n",
       "      <td>4</td>\n",
       "      <td>15701354</td>\n",
       "      <td>Boni</td>\n",
       "      <td>699</td>\n",
       "      <td>France</td>\n",
       "      <td>Female</td>\n",
       "      <td>39</td>\n",
       "      <td>1</td>\n",
       "      <td>0.00</td>\n",
       "      <td>2</td>\n",
       "      <td>0</td>\n",
       "      <td>0</td>\n",
       "      <td>93826.63</td>\n",
       "      <td>0</td>\n",
       "    </tr>\n",
       "    <tr>\n",
       "      <th>4</th>\n",
       "      <td>5</td>\n",
       "      <td>15737888</td>\n",
       "      <td>Mitchell</td>\n",
       "      <td>850</td>\n",
       "      <td>Spain</td>\n",
       "      <td>Female</td>\n",
       "      <td>43</td>\n",
       "      <td>2</td>\n",
       "      <td>125510.82</td>\n",
       "      <td>1</td>\n",
       "      <td>1</td>\n",
       "      <td>1</td>\n",
       "      <td>79084.10</td>\n",
       "      <td>0</td>\n",
       "    </tr>\n",
       "  </tbody>\n",
       "</table>\n",
       "</div>"
      ],
      "text/plain": [
       "   num_ligne  ID_Client       Nom  Score_Credit    Pays     Sex  Age  Tenure  \\\n",
       "0          1   15634602  Hargrave           619  France  Female   42       2   \n",
       "1          2   15647311      Hill           608   Spain  Female   41       1   \n",
       "2          3   15619304      Onio           502  France  Female   42       8   \n",
       "3          4   15701354      Boni           699  France  Female   39       1   \n",
       "4          5   15737888  Mitchell           850   Spain  Female   43       2   \n",
       "\n",
       "     Balance  Num_Produit  il_a_CrCard  Membre_actif  Salaire_estime  Exited  \n",
       "0       0.00            1            1             1       101348.88       1  \n",
       "1   83807.86            1            0             1       112542.58       0  \n",
       "2  159660.80            3            1             0       113931.57       1  \n",
       "3       0.00            2            0             0        93826.63       0  \n",
       "4  125510.82            1            1             1        79084.10       0  "
      ]
     },
     "execution_count": 2,
     "metadata": {},
     "output_type": "execute_result"
    }
   ],
   "source": [
    "#lire csv\n",
    "clients = pd.read_csv(\"C:/Users/utilisateur/Documents/GitHub/clients/data.csv\", sep=',')\n",
    "\n",
    "clients.head()"
   ]
  },
  {
   "cell_type": "markdown",
   "metadata": {},
   "source": [
    "Décision de supprimer les colonnes num_ligne, ID_client qui ne présentent pas d'intérêt pour l'analyse"
   ]
  },
  {
   "cell_type": "code",
   "execution_count": 3,
   "metadata": {},
   "outputs": [
    {
     "data": {
      "text/html": [
       "<div>\n",
       "<style scoped>\n",
       "    .dataframe tbody tr th:only-of-type {\n",
       "        vertical-align: middle;\n",
       "    }\n",
       "\n",
       "    .dataframe tbody tr th {\n",
       "        vertical-align: top;\n",
       "    }\n",
       "\n",
       "    .dataframe thead th {\n",
       "        text-align: right;\n",
       "    }\n",
       "</style>\n",
       "<table border=\"1\" class=\"dataframe\">\n",
       "  <thead>\n",
       "    <tr style=\"text-align: right;\">\n",
       "      <th></th>\n",
       "      <th>Nom</th>\n",
       "      <th>Score_Credit</th>\n",
       "      <th>Pays</th>\n",
       "      <th>Sex</th>\n",
       "      <th>Age</th>\n",
       "      <th>Tenure</th>\n",
       "      <th>Balance</th>\n",
       "      <th>Num_Produit</th>\n",
       "      <th>il_a_CrCard</th>\n",
       "      <th>Membre_actif</th>\n",
       "      <th>Salaire_estime</th>\n",
       "      <th>Exited</th>\n",
       "    </tr>\n",
       "  </thead>\n",
       "  <tbody>\n",
       "    <tr>\n",
       "      <th>0</th>\n",
       "      <td>Hargrave</td>\n",
       "      <td>619</td>\n",
       "      <td>France</td>\n",
       "      <td>Female</td>\n",
       "      <td>42</td>\n",
       "      <td>2</td>\n",
       "      <td>0.00</td>\n",
       "      <td>1</td>\n",
       "      <td>1</td>\n",
       "      <td>1</td>\n",
       "      <td>101348.88</td>\n",
       "      <td>1</td>\n",
       "    </tr>\n",
       "    <tr>\n",
       "      <th>1</th>\n",
       "      <td>Hill</td>\n",
       "      <td>608</td>\n",
       "      <td>Spain</td>\n",
       "      <td>Female</td>\n",
       "      <td>41</td>\n",
       "      <td>1</td>\n",
       "      <td>83807.86</td>\n",
       "      <td>1</td>\n",
       "      <td>0</td>\n",
       "      <td>1</td>\n",
       "      <td>112542.58</td>\n",
       "      <td>0</td>\n",
       "    </tr>\n",
       "    <tr>\n",
       "      <th>2</th>\n",
       "      <td>Onio</td>\n",
       "      <td>502</td>\n",
       "      <td>France</td>\n",
       "      <td>Female</td>\n",
       "      <td>42</td>\n",
       "      <td>8</td>\n",
       "      <td>159660.80</td>\n",
       "      <td>3</td>\n",
       "      <td>1</td>\n",
       "      <td>0</td>\n",
       "      <td>113931.57</td>\n",
       "      <td>1</td>\n",
       "    </tr>\n",
       "    <tr>\n",
       "      <th>3</th>\n",
       "      <td>Boni</td>\n",
       "      <td>699</td>\n",
       "      <td>France</td>\n",
       "      <td>Female</td>\n",
       "      <td>39</td>\n",
       "      <td>1</td>\n",
       "      <td>0.00</td>\n",
       "      <td>2</td>\n",
       "      <td>0</td>\n",
       "      <td>0</td>\n",
       "      <td>93826.63</td>\n",
       "      <td>0</td>\n",
       "    </tr>\n",
       "    <tr>\n",
       "      <th>4</th>\n",
       "      <td>Mitchell</td>\n",
       "      <td>850</td>\n",
       "      <td>Spain</td>\n",
       "      <td>Female</td>\n",
       "      <td>43</td>\n",
       "      <td>2</td>\n",
       "      <td>125510.82</td>\n",
       "      <td>1</td>\n",
       "      <td>1</td>\n",
       "      <td>1</td>\n",
       "      <td>79084.10</td>\n",
       "      <td>0</td>\n",
       "    </tr>\n",
       "  </tbody>\n",
       "</table>\n",
       "</div>"
      ],
      "text/plain": [
       "        Nom  Score_Credit    Pays     Sex  Age  Tenure    Balance  \\\n",
       "0  Hargrave           619  France  Female   42       2       0.00   \n",
       "1      Hill           608   Spain  Female   41       1   83807.86   \n",
       "2      Onio           502  France  Female   42       8  159660.80   \n",
       "3      Boni           699  France  Female   39       1       0.00   \n",
       "4  Mitchell           850   Spain  Female   43       2  125510.82   \n",
       "\n",
       "   Num_Produit  il_a_CrCard  Membre_actif  Salaire_estime  Exited  \n",
       "0            1            1             1       101348.88       1  \n",
       "1            1            0             1       112542.58       0  \n",
       "2            3            1             0       113931.57       1  \n",
       "3            2            0             0        93826.63       0  \n",
       "4            1            1             1        79084.10       0  "
      ]
     },
     "execution_count": 3,
     "metadata": {},
     "output_type": "execute_result"
    }
   ],
   "source": [
    "clients.drop('num_ligne', axis=1, inplace = True)\n",
    "clients.drop('ID_Client', axis=1, inplace = True)\n",
    "clients.head()"
   ]
  },
  {
   "cell_type": "code",
   "execution_count": 4,
   "metadata": {},
   "outputs": [
    {
     "data": {
      "text/plain": [
       "Nom               0\n",
       "Score_Credit      0\n",
       "Pays              0\n",
       "Sex               0\n",
       "Age               0\n",
       "Tenure            0\n",
       "Balance           0\n",
       "Num_Produit       0\n",
       "il_a_CrCard       0\n",
       "Membre_actif      0\n",
       "Salaire_estime    0\n",
       "Exited            0\n",
       "dtype: int64"
      ]
     },
     "execution_count": 4,
     "metadata": {},
     "output_type": "execute_result"
    }
   ],
   "source": [
    "# vérification de la présence de données nulles\n",
    "clients.isna().sum()"
   ]
  },
  {
   "cell_type": "code",
   "execution_count": 5,
   "metadata": {},
   "outputs": [
    {
     "name": "stdout",
     "output_type": "stream",
     "text": [
      "            Nom     Pays     Sex\n",
      "0      Hargrave   France  Female\n",
      "1          Hill    Spain  Female\n",
      "2          Onio   France  Female\n",
      "3          Boni   France  Female\n",
      "4      Mitchell    Spain  Female\n",
      "...         ...      ...     ...\n",
      "9995   Obijiaku   France    Male\n",
      "9996  Johnstone   France    Male\n",
      "9997        Liu   France  Female\n",
      "9998  Sabbatini  Germany    Male\n",
      "9999     Walker   France  Female\n",
      "\n",
      "[10000 rows x 3 columns]\n"
     ]
    }
   ],
   "source": [
    "#Visualisation des variables qualitatives\n",
    "\n",
    "df_cat = clients.select_dtypes(include='object')\n",
    "print(df_cat)"
   ]
  },
  {
   "cell_type": "code",
   "execution_count": 6,
   "metadata": {},
   "outputs": [
    {
     "name": "stdout",
     "output_type": "stream",
     "text": [
      "Nom  =  2932\n",
      "Pays  =  3\n",
      "Sex  =  2\n"
     ]
    }
   ],
   "source": [
    "#vérification des cardinbalités\n",
    "for col in df_cat:\n",
    "    print(col, ' = ', len(clients[col].unique()))"
   ]
  },
  {
   "cell_type": "markdown",
   "metadata": {},
   "source": [
    "Nous sommes donc obligés de retirer la colonne nom, qui ne présente pas vraiment d'intérêt.\n"
   ]
  },
  {
   "cell_type": "code",
   "execution_count": 7,
   "metadata": {},
   "outputs": [
    {
     "data": {
      "text/html": [
       "<div>\n",
       "<style scoped>\n",
       "    .dataframe tbody tr th:only-of-type {\n",
       "        vertical-align: middle;\n",
       "    }\n",
       "\n",
       "    .dataframe tbody tr th {\n",
       "        vertical-align: top;\n",
       "    }\n",
       "\n",
       "    .dataframe thead th {\n",
       "        text-align: right;\n",
       "    }\n",
       "</style>\n",
       "<table border=\"1\" class=\"dataframe\">\n",
       "  <thead>\n",
       "    <tr style=\"text-align: right;\">\n",
       "      <th></th>\n",
       "      <th>Score_Credit</th>\n",
       "      <th>Pays</th>\n",
       "      <th>Sex</th>\n",
       "      <th>Age</th>\n",
       "      <th>Tenure</th>\n",
       "      <th>Balance</th>\n",
       "      <th>Num_Produit</th>\n",
       "      <th>il_a_CrCard</th>\n",
       "      <th>Membre_actif</th>\n",
       "      <th>Salaire_estime</th>\n",
       "      <th>Exited</th>\n",
       "    </tr>\n",
       "  </thead>\n",
       "  <tbody>\n",
       "    <tr>\n",
       "      <th>0</th>\n",
       "      <td>619</td>\n",
       "      <td>France</td>\n",
       "      <td>Female</td>\n",
       "      <td>42</td>\n",
       "      <td>2</td>\n",
       "      <td>0.00</td>\n",
       "      <td>1</td>\n",
       "      <td>1</td>\n",
       "      <td>1</td>\n",
       "      <td>101348.88</td>\n",
       "      <td>1</td>\n",
       "    </tr>\n",
       "    <tr>\n",
       "      <th>1</th>\n",
       "      <td>608</td>\n",
       "      <td>Spain</td>\n",
       "      <td>Female</td>\n",
       "      <td>41</td>\n",
       "      <td>1</td>\n",
       "      <td>83807.86</td>\n",
       "      <td>1</td>\n",
       "      <td>0</td>\n",
       "      <td>1</td>\n",
       "      <td>112542.58</td>\n",
       "      <td>0</td>\n",
       "    </tr>\n",
       "    <tr>\n",
       "      <th>2</th>\n",
       "      <td>502</td>\n",
       "      <td>France</td>\n",
       "      <td>Female</td>\n",
       "      <td>42</td>\n",
       "      <td>8</td>\n",
       "      <td>159660.80</td>\n",
       "      <td>3</td>\n",
       "      <td>1</td>\n",
       "      <td>0</td>\n",
       "      <td>113931.57</td>\n",
       "      <td>1</td>\n",
       "    </tr>\n",
       "    <tr>\n",
       "      <th>3</th>\n",
       "      <td>699</td>\n",
       "      <td>France</td>\n",
       "      <td>Female</td>\n",
       "      <td>39</td>\n",
       "      <td>1</td>\n",
       "      <td>0.00</td>\n",
       "      <td>2</td>\n",
       "      <td>0</td>\n",
       "      <td>0</td>\n",
       "      <td>93826.63</td>\n",
       "      <td>0</td>\n",
       "    </tr>\n",
       "    <tr>\n",
       "      <th>4</th>\n",
       "      <td>850</td>\n",
       "      <td>Spain</td>\n",
       "      <td>Female</td>\n",
       "      <td>43</td>\n",
       "      <td>2</td>\n",
       "      <td>125510.82</td>\n",
       "      <td>1</td>\n",
       "      <td>1</td>\n",
       "      <td>1</td>\n",
       "      <td>79084.10</td>\n",
       "      <td>0</td>\n",
       "    </tr>\n",
       "  </tbody>\n",
       "</table>\n",
       "</div>"
      ],
      "text/plain": [
       "   Score_Credit    Pays     Sex  Age  Tenure    Balance  Num_Produit  \\\n",
       "0           619  France  Female   42       2       0.00            1   \n",
       "1           608   Spain  Female   41       1   83807.86            1   \n",
       "2           502  France  Female   42       8  159660.80            3   \n",
       "3           699  France  Female   39       1       0.00            2   \n",
       "4           850   Spain  Female   43       2  125510.82            1   \n",
       "\n",
       "   il_a_CrCard  Membre_actif  Salaire_estime  Exited  \n",
       "0            1             1       101348.88       1  \n",
       "1            0             1       112542.58       0  \n",
       "2            1             0       113931.57       1  \n",
       "3            0             0        93826.63       0  \n",
       "4            1             1        79084.10       0  "
      ]
     },
     "execution_count": 7,
     "metadata": {},
     "output_type": "execute_result"
    }
   ],
   "source": [
    "clients.drop('Nom', axis=1, inplace = True)\n",
    "clients.head()"
   ]
  },
  {
   "cell_type": "code",
   "execution_count": 8,
   "metadata": {},
   "outputs": [
    {
     "data": {
      "text/html": [
       "<div>\n",
       "<style scoped>\n",
       "    .dataframe tbody tr th:only-of-type {\n",
       "        vertical-align: middle;\n",
       "    }\n",
       "\n",
       "    .dataframe tbody tr th {\n",
       "        vertical-align: top;\n",
       "    }\n",
       "\n",
       "    .dataframe thead th {\n",
       "        text-align: right;\n",
       "    }\n",
       "</style>\n",
       "<table border=\"1\" class=\"dataframe\">\n",
       "  <thead>\n",
       "    <tr style=\"text-align: right;\">\n",
       "      <th></th>\n",
       "      <th>Score_Credit</th>\n",
       "      <th>Age</th>\n",
       "      <th>Tenure</th>\n",
       "      <th>Balance</th>\n",
       "      <th>Num_Produit</th>\n",
       "      <th>il_a_CrCard</th>\n",
       "      <th>Membre_actif</th>\n",
       "      <th>Salaire_estime</th>\n",
       "      <th>Exited</th>\n",
       "      <th>Female</th>\n",
       "      <th>Male</th>\n",
       "      <th>France</th>\n",
       "      <th>Germany</th>\n",
       "      <th>Spain</th>\n",
       "    </tr>\n",
       "  </thead>\n",
       "  <tbody>\n",
       "    <tr>\n",
       "      <th>0</th>\n",
       "      <td>619</td>\n",
       "      <td>42</td>\n",
       "      <td>2</td>\n",
       "      <td>0.00</td>\n",
       "      <td>1</td>\n",
       "      <td>1</td>\n",
       "      <td>1</td>\n",
       "      <td>101348.88</td>\n",
       "      <td>1</td>\n",
       "      <td>1</td>\n",
       "      <td>0</td>\n",
       "      <td>1</td>\n",
       "      <td>0</td>\n",
       "      <td>0</td>\n",
       "    </tr>\n",
       "    <tr>\n",
       "      <th>1</th>\n",
       "      <td>608</td>\n",
       "      <td>41</td>\n",
       "      <td>1</td>\n",
       "      <td>83807.86</td>\n",
       "      <td>1</td>\n",
       "      <td>0</td>\n",
       "      <td>1</td>\n",
       "      <td>112542.58</td>\n",
       "      <td>0</td>\n",
       "      <td>1</td>\n",
       "      <td>0</td>\n",
       "      <td>0</td>\n",
       "      <td>0</td>\n",
       "      <td>1</td>\n",
       "    </tr>\n",
       "    <tr>\n",
       "      <th>2</th>\n",
       "      <td>502</td>\n",
       "      <td>42</td>\n",
       "      <td>8</td>\n",
       "      <td>159660.80</td>\n",
       "      <td>3</td>\n",
       "      <td>1</td>\n",
       "      <td>0</td>\n",
       "      <td>113931.57</td>\n",
       "      <td>1</td>\n",
       "      <td>1</td>\n",
       "      <td>0</td>\n",
       "      <td>1</td>\n",
       "      <td>0</td>\n",
       "      <td>0</td>\n",
       "    </tr>\n",
       "    <tr>\n",
       "      <th>3</th>\n",
       "      <td>699</td>\n",
       "      <td>39</td>\n",
       "      <td>1</td>\n",
       "      <td>0.00</td>\n",
       "      <td>2</td>\n",
       "      <td>0</td>\n",
       "      <td>0</td>\n",
       "      <td>93826.63</td>\n",
       "      <td>0</td>\n",
       "      <td>1</td>\n",
       "      <td>0</td>\n",
       "      <td>1</td>\n",
       "      <td>0</td>\n",
       "      <td>0</td>\n",
       "    </tr>\n",
       "    <tr>\n",
       "      <th>4</th>\n",
       "      <td>850</td>\n",
       "      <td>43</td>\n",
       "      <td>2</td>\n",
       "      <td>125510.82</td>\n",
       "      <td>1</td>\n",
       "      <td>1</td>\n",
       "      <td>1</td>\n",
       "      <td>79084.10</td>\n",
       "      <td>0</td>\n",
       "      <td>1</td>\n",
       "      <td>0</td>\n",
       "      <td>0</td>\n",
       "      <td>0</td>\n",
       "      <td>1</td>\n",
       "    </tr>\n",
       "  </tbody>\n",
       "</table>\n",
       "</div>"
      ],
      "text/plain": [
       "   Score_Credit  Age  Tenure    Balance  Num_Produit  il_a_CrCard  \\\n",
       "0           619   42       2       0.00            1            1   \n",
       "1           608   41       1   83807.86            1            0   \n",
       "2           502   42       8  159660.80            3            1   \n",
       "3           699   39       1       0.00            2            0   \n",
       "4           850   43       2  125510.82            1            1   \n",
       "\n",
       "   Membre_actif  Salaire_estime  Exited  Female  Male  France  Germany  Spain  \n",
       "0             1       101348.88       1       1     0       1        0      0  \n",
       "1             1       112542.58       0       1     0       0        0      1  \n",
       "2             0       113931.57       1       1     0       1        0      0  \n",
       "3             0        93826.63       0       1     0       1        0      0  \n",
       "4             1        79084.10       0       1     0       0        0      1  "
      ]
     },
     "execution_count": 8,
     "metadata": {},
     "output_type": "execute_result"
    }
   ],
   "source": [
    "#création des variables muettes\n",
    "clients = pd.concat([clients,\n",
    "                     pd.get_dummies(clients.Sex), \n",
    "                     pd.get_dummies(clients.Pays)], axis=1)\n",
    "\n",
    "# suppression des colonnes d'origine\n",
    "clients.drop('Pays', axis=1, inplace = True)\n",
    "clients.drop('Sex', axis=1, inplace = True)\n",
    "clients.head()"
   ]
  },
  {
   "cell_type": "code",
   "execution_count": 19,
   "metadata": {},
   "outputs": [
    {
     "name": "stdout",
     "output_type": "stream",
     "text": [
      "(10000,)\n",
      "(10000, 13)\n"
     ]
    }
   ],
   "source": [
    "# récupération X et Y\n",
    "\n",
    "Y = clients.Exited\n",
    "Y=np.array((Y))\n",
    "\n",
    "print(Y.shape)\n",
    "\n",
    "X = clients.loc[:, clients.columns != 'Exited']\n",
    "print(X.shape)"
   ]
  },
  {
   "cell_type": "markdown",
   "metadata": {},
   "source": [
    "Maintenant que les données sont prêtes, nous allons les standardiser"
   ]
  },
  {
   "cell_type": "code",
   "execution_count": 10,
   "metadata": {},
   "outputs": [
    {
     "name": "stdout",
     "output_type": "stream",
     "text": [
      "      Score_Credit  Age  Tenure    Balance  Num_Produit  il_a_CrCard  \\\n",
      "0              619   42       2       0.00            1            1   \n",
      "1              608   41       1   83807.86            1            0   \n",
      "2              502   42       8  159660.80            3            1   \n",
      "3              699   39       1       0.00            2            0   \n",
      "4              850   43       2  125510.82            1            1   \n",
      "...            ...  ...     ...        ...          ...          ...   \n",
      "9995           771   39       5       0.00            2            1   \n",
      "9996           516   35      10   57369.61            1            1   \n",
      "9997           709   36       7       0.00            1            0   \n",
      "9998           772   42       3   75075.31            2            1   \n",
      "9999           792   28       4  130142.79            1            1   \n",
      "\n",
      "      Membre_actif  Salaire_estime  Female  Male  France  Germany  Spain  \n",
      "0                1       101348.88       1     0       1        0      0  \n",
      "1                1       112542.58       1     0       0        0      1  \n",
      "2                0       113931.57       1     0       1        0      0  \n",
      "3                0        93826.63       1     0       1        0      0  \n",
      "4                1        79084.10       1     0       0        0      1  \n",
      "...            ...             ...     ...   ...     ...      ...    ...  \n",
      "9995             0        96270.64       0     1       1        0      0  \n",
      "9996             1       101699.77       0     1       1        0      0  \n",
      "9997             1        42085.58       1     0       1        0      0  \n",
      "9998             0        92888.52       0     1       0        1      0  \n",
      "9999             0        38190.78       1     0       1        0      0  \n",
      "\n",
      "[10000 rows x 13 columns]\n"
     ]
    }
   ],
   "source": [
    "print(X)"
   ]
  },
  {
   "cell_type": "code",
   "execution_count": 11,
   "metadata": {},
   "outputs": [],
   "source": [
    "cols = X.columns"
   ]
  },
  {
   "cell_type": "code",
   "execution_count": 12,
   "metadata": {},
   "outputs": [
    {
     "name": "stdout",
     "output_type": "stream",
     "text": [
      "[[-0.32622142  0.29351742 -1.04175968 ...  0.99720391 -0.57873591\n",
      "  -0.57380915]\n",
      " [-0.44003595  0.19816383 -1.38753759 ... -1.00280393 -0.57873591\n",
      "   1.74273971]\n",
      " [-1.53679418  0.29351742  1.03290776 ...  0.99720391 -0.57873591\n",
      "  -0.57380915]\n",
      " ...\n",
      " [ 0.60498839 -0.27860412  0.68712986 ...  0.99720391 -0.57873591\n",
      "  -0.57380915]\n",
      " [ 1.25683526  0.29351742 -0.69598177 ... -1.00280393  1.72790383\n",
      "  -0.57380915]\n",
      " [ 1.46377078 -1.04143285 -0.35020386 ...  0.99720391 -0.57873591\n",
      "  -0.57380915]]\n"
     ]
    }
   ],
   "source": [
    "\n",
    "from sklearn.preprocessing import StandardScaler\n",
    "\n",
    "scaler = StandardScaler()\n",
    "\n",
    "X = scaler.fit_transform(X)\n",
    "\n",
    "print(X)"
   ]
  },
  {
   "cell_type": "code",
   "execution_count": 15,
   "metadata": {},
   "outputs": [
    {
     "data": {
      "text/html": [
       "<div>\n",
       "<style scoped>\n",
       "    .dataframe tbody tr th:only-of-type {\n",
       "        vertical-align: middle;\n",
       "    }\n",
       "\n",
       "    .dataframe tbody tr th {\n",
       "        vertical-align: top;\n",
       "    }\n",
       "\n",
       "    .dataframe thead tr th {\n",
       "        text-align: left;\n",
       "    }\n",
       "</style>\n",
       "<table border=\"1\" class=\"dataframe\">\n",
       "  <thead>\n",
       "    <tr>\n",
       "      <th></th>\n",
       "      <th>Score_Credit</th>\n",
       "      <th>Age</th>\n",
       "      <th>Tenure</th>\n",
       "      <th>Balance</th>\n",
       "      <th>Num_Produit</th>\n",
       "      <th>il_a_CrCard</th>\n",
       "      <th>Membre_actif</th>\n",
       "      <th>Salaire_estime</th>\n",
       "      <th>Female</th>\n",
       "      <th>Male</th>\n",
       "      <th>France</th>\n",
       "      <th>Germany</th>\n",
       "      <th>Spain</th>\n",
       "    </tr>\n",
       "  </thead>\n",
       "  <tbody>\n",
       "    <tr>\n",
       "      <th>0</th>\n",
       "      <td>-0.326221</td>\n",
       "      <td>0.293517</td>\n",
       "      <td>-1.041760</td>\n",
       "      <td>-1.225848</td>\n",
       "      <td>-0.911583</td>\n",
       "      <td>0.646092</td>\n",
       "      <td>0.970243</td>\n",
       "      <td>0.021886</td>\n",
       "      <td>1.095988</td>\n",
       "      <td>-1.095988</td>\n",
       "      <td>0.997204</td>\n",
       "      <td>-0.578736</td>\n",
       "      <td>-0.573809</td>\n",
       "    </tr>\n",
       "    <tr>\n",
       "      <th>1</th>\n",
       "      <td>-0.440036</td>\n",
       "      <td>0.198164</td>\n",
       "      <td>-1.387538</td>\n",
       "      <td>0.117350</td>\n",
       "      <td>-0.911583</td>\n",
       "      <td>-1.547768</td>\n",
       "      <td>0.970243</td>\n",
       "      <td>0.216534</td>\n",
       "      <td>1.095988</td>\n",
       "      <td>-1.095988</td>\n",
       "      <td>-1.002804</td>\n",
       "      <td>-0.578736</td>\n",
       "      <td>1.742740</td>\n",
       "    </tr>\n",
       "    <tr>\n",
       "      <th>2</th>\n",
       "      <td>-1.536794</td>\n",
       "      <td>0.293517</td>\n",
       "      <td>1.032908</td>\n",
       "      <td>1.333053</td>\n",
       "      <td>2.527057</td>\n",
       "      <td>0.646092</td>\n",
       "      <td>-1.030670</td>\n",
       "      <td>0.240687</td>\n",
       "      <td>1.095988</td>\n",
       "      <td>-1.095988</td>\n",
       "      <td>0.997204</td>\n",
       "      <td>-0.578736</td>\n",
       "      <td>-0.573809</td>\n",
       "    </tr>\n",
       "    <tr>\n",
       "      <th>3</th>\n",
       "      <td>0.501521</td>\n",
       "      <td>0.007457</td>\n",
       "      <td>-1.387538</td>\n",
       "      <td>-1.225848</td>\n",
       "      <td>0.807737</td>\n",
       "      <td>-1.547768</td>\n",
       "      <td>-1.030670</td>\n",
       "      <td>-0.108918</td>\n",
       "      <td>1.095988</td>\n",
       "      <td>-1.095988</td>\n",
       "      <td>0.997204</td>\n",
       "      <td>-0.578736</td>\n",
       "      <td>-0.573809</td>\n",
       "    </tr>\n",
       "    <tr>\n",
       "      <th>4</th>\n",
       "      <td>2.063884</td>\n",
       "      <td>0.388871</td>\n",
       "      <td>-1.041760</td>\n",
       "      <td>0.785728</td>\n",
       "      <td>-0.911583</td>\n",
       "      <td>0.646092</td>\n",
       "      <td>0.970243</td>\n",
       "      <td>-0.365276</td>\n",
       "      <td>1.095988</td>\n",
       "      <td>-1.095988</td>\n",
       "      <td>-1.002804</td>\n",
       "      <td>-0.578736</td>\n",
       "      <td>1.742740</td>\n",
       "    </tr>\n",
       "  </tbody>\n",
       "</table>\n",
       "</div>"
      ],
      "text/plain": [
       "  Score_Credit       Age    Tenure   Balance Num_Produit il_a_CrCard  \\\n",
       "0    -0.326221  0.293517 -1.041760 -1.225848   -0.911583    0.646092   \n",
       "1    -0.440036  0.198164 -1.387538  0.117350   -0.911583   -1.547768   \n",
       "2    -1.536794  0.293517  1.032908  1.333053    2.527057    0.646092   \n",
       "3     0.501521  0.007457 -1.387538 -1.225848    0.807737   -1.547768   \n",
       "4     2.063884  0.388871 -1.041760  0.785728   -0.911583    0.646092   \n",
       "\n",
       "  Membre_actif Salaire_estime    Female      Male    France   Germany  \\\n",
       "0     0.970243       0.021886  1.095988 -1.095988  0.997204 -0.578736   \n",
       "1     0.970243       0.216534  1.095988 -1.095988 -1.002804 -0.578736   \n",
       "2    -1.030670       0.240687  1.095988 -1.095988  0.997204 -0.578736   \n",
       "3    -1.030670      -0.108918  1.095988 -1.095988  0.997204 -0.578736   \n",
       "4     0.970243      -0.365276  1.095988 -1.095988 -1.002804 -0.578736   \n",
       "\n",
       "      Spain  \n",
       "0 -0.573809  \n",
       "1  1.742740  \n",
       "2 -0.573809  \n",
       "3 -0.573809  \n",
       "4  1.742740  "
      ]
     },
     "execution_count": 15,
     "metadata": {},
     "output_type": "execute_result"
    }
   ],
   "source": [
    "X = pd.DataFrame(X, columns=[cols])\n",
    "X.head()"
   ]
  },
  {
   "cell_type": "markdown",
   "metadata": {},
   "source": [
    "Les données sont maintenant prêtes à être utilisées. Nous pouvons commencer l'analyse."
   ]
  },
  {
   "cell_type": "code",
   "execution_count": 20,
   "metadata": {},
   "outputs": [
    {
     "name": "stdout",
     "output_type": "stream",
     "text": [
      "9000 1000\n"
     ]
    }
   ],
   "source": [
    "from sklearn.model_selection import train_test_split\n",
    "\n",
    "# Subdivision en ensembles d'entrainement et de test:\n",
    "\n",
    "X_train, X_test, y_train, y_test = train_test_split(X, Y, test_size=0.1, random_state=9)\n",
    "print(len(X_train), len(X_test))"
   ]
  },
  {
   "cell_type": "markdown",
   "metadata": {},
   "source": [
    "## Essai de prédiction avec une régression logistique"
   ]
  },
  {
   "cell_type": "code",
   "execution_count": 26,
   "metadata": {},
   "outputs": [
    {
     "name": "stdout",
     "output_type": "stream",
     "text": [
      "temps écoulé :  0.15\n"
     ]
    }
   ],
   "source": [
    "from sklearn.linear_model import LogisticRegression\n",
    "import time\n",
    "\n",
    "#### Entrainement du modele\n",
    "temps_debut = time.time()\n",
    "model_logistic = LogisticRegression(max_iter=1000, random_state=9).fit(X_train, y_train)\n",
    "temps_fin = time.time()\n",
    "temps_ecoule = temps_fin - temps_debut\n",
    "\n",
    "print(\"temps écoulé : \", format(temps_ecoule, '.2f'))"
   ]
  },
  {
   "cell_type": "code",
   "execution_count": 29,
   "metadata": {},
   "outputs": [
    {
     "name": "stdout",
     "output_type": "stream",
     "text": [
      "taux de classification :  0.787\n"
     ]
    }
   ],
   "source": [
    "#taux de classification\n",
    "\n",
    "from sklearn.metrics import accuracy_score\n",
    "y_pred_log = model_logistic.predict(X_test)\n",
    "\n",
    "print(\"taux de classification : \", accuracy_score(y_test, y_pred_log))"
   ]
  },
  {
   "cell_type": "markdown",
   "metadata": {},
   "source": [
    "## Essai de prédiction avec un random Forest"
   ]
  },
  {
   "cell_type": "code",
   "execution_count": 31,
   "metadata": {},
   "outputs": [
    {
     "name": "stdout",
     "output_type": "stream",
     "text": [
      "temps écoulé :  1.07\n"
     ]
    }
   ],
   "source": [
    "from sklearn.ensemble import RandomForestClassifier\n",
    "\n",
    "temps_debut = time.time()\n",
    "#### Entrainement du modele\n",
    "model_forest = RandomForestClassifier(n_estimators=100, random_state=9)\n",
    "model_forest.fit(X_train, y_train)\n",
    "temps_fin = time.time()\n",
    "temps_ecoule = temps_fin - temps_debut\n",
    "\n",
    "print(\"temps écoulé : \", format(temps_ecoule, '.2f'))"
   ]
  },
  {
   "cell_type": "code",
   "execution_count": 32,
   "metadata": {},
   "outputs": [
    {
     "name": "stdout",
     "output_type": "stream",
     "text": [
      "taux de classification :  0.865\n"
     ]
    }
   ],
   "source": [
    "#taux de classification\n",
    "\n",
    "y_pred_rforest = model_forest.predict(X_test)\n",
    "\n",
    "print(\"taux de classification : \", accuracy_score(y_test, y_pred_rforest))"
   ]
  },
  {
   "cell_type": "markdown",
   "metadata": {},
   "source": [
    "## Essai de prédiction avec un SGD classifier"
   ]
  },
  {
   "cell_type": "code",
   "execution_count": 38,
   "metadata": {},
   "outputs": [
    {
     "name": "stdout",
     "output_type": "stream",
     "text": [
      "temps écoulé :  0.25\n"
     ]
    }
   ],
   "source": [
    "from sklearn.linear_model import SGDClassifier\n",
    "\n",
    "temps_debut = time.time()\n",
    "model_sgd = SGDClassifier(loss=\"hinge\", penalty=\"l2\", max_iter=500)\n",
    "\n",
    "model_sgd.fit(X_train, y_train)\n",
    "SGDClassifier(max_iter=5)\n",
    "\n",
    "temps_fin = time.time()\n",
    "temps_ecoule = temps_fin - temps_debut\n",
    "print(\"temps écoulé : \", format(temps_ecoule, '.2f'))"
   ]
  },
  {
   "cell_type": "code",
   "execution_count": 37,
   "metadata": {},
   "outputs": [
    {
     "name": "stdout",
     "output_type": "stream",
     "text": [
      "taux de classification :  0.687\n"
     ]
    }
   ],
   "source": [
    "#taux de classification\n",
    "\n",
    "y_pred_sgd = model_sgd.predict(X_test)\n",
    "\n",
    "print(\"taux de classification : \", accuracy_score(y_test, y_pred_sgd))"
   ]
  },
  {
   "cell_type": "markdown",
   "metadata": {},
   "source": [
    "## Essai avec un SVM"
   ]
  },
  {
   "cell_type": "code",
   "execution_count": 41,
   "metadata": {},
   "outputs": [
    {
     "name": "stdout",
     "output_type": "stream",
     "text": [
      "temps écoulé :  1.64\n"
     ]
    }
   ],
   "source": [
    "# détermination des meilleurs paramètres\n",
    "from sklearn.model_selection import GridSearchCV\n",
    "from sklearn import svm\n",
    "\n",
    "#param_grid={'C': [1, 10, 25, 50, 100, 1000], 'kernel': ['linear', 'poly', 'rbf', 'sigmoid'], 'gamma': [1e-3, 1e-4, 0.1]}\n",
    "#model_grid = GridSearchCV(svm.SVC(), param_grid, cv =10)\n",
    "## (temps de calcul trop long, arrêté après 15 minutes)\n",
    "\n",
    "temps_debut = time.time()\n",
    "\n",
    "model_svm = svm.SVC()\n",
    "model_svm.fit(X_train, y_train)\n",
    "\n",
    "temps_fin = time.time()\n",
    "temps_ecoule = temps_fin - temps_debut\n",
    "print(\"temps écoulé : \", format(temps_ecoule, '.2f'))"
   ]
  },
  {
   "cell_type": "code",
   "execution_count": 45,
   "metadata": {},
   "outputs": [
    {
     "name": "stdout",
     "output_type": "stream",
     "text": [
      "taux de classification :  0.795\n",
      "[0 0 0 0 0 0 0 0 0 0 0 0 0 0 0 0 0 0 0 0 0 0 0 0 0 0 0 0 0 0 0 0 0 0 0 0 0\n",
      " 0 0 0]\n",
      "[0 0 1 1 0 1 0 0 0 0 0 0 0 1 1 0 1 1 0 0 0 0 0 0 0 0 0 0 0 0 0 0 0 0 1 0 0\n",
      " 0 0 0]\n"
     ]
    }
   ],
   "source": [
    "#taux de classification\n",
    "\n",
    "y_pred_svm = model_svm.predict(X_test)\n",
    "\n",
    "print(\"taux de classification : \", accuracy_score(y_test, y_pred_svm))\n",
    "\n",
    "plt.\n",
    "print(y_pred_svm[0:40])\n",
    "print(y_test[0:40])"
   ]
  },
  {
   "cell_type": "markdown",
   "metadata": {},
   "source": [
    "## Essai avec un réseau de neurones"
   ]
  },
  {
   "cell_type": "code",
   "execution_count": 48,
   "metadata": {},
   "outputs": [],
   "source": [
    "from tensorflow.keras import datasets, layers, models\n",
    "from keras.layers import Dense, Conv1D, Flatten\n",
    "from keras.utils import to_categorical\n",
    "\n",
    "\n",
    "#implémentation du modèle séquentiel\n",
    "model_seq = models.Sequential()\n",
    "\n",
    "model_seq.add(Conv1D(64, kernel_size=3, activation='relu'))\n",
    "model_seq.add(Conv1D(32, kernel_size=3, activation='relu'))\n",
    "model_seq.add(Flatten())\n",
    "model_seq.add(Dense(2, activation='softmax')) # couche de sortie taille 2 pour correspondre à Y\n",
    "\n",
    "model_seq.summary()"
   ]
  }
 ],
 "metadata": {
  "kernelspec": {
   "display_name": "Python 3",
   "language": "python",
   "name": "python3"
  },
  "language_info": {
   "codemirror_mode": {
    "name": "ipython",
    "version": 3
   },
   "file_extension": ".py",
   "mimetype": "text/x-python",
   "name": "python",
   "nbconvert_exporter": "python",
   "pygments_lexer": "ipython3",
   "version": "3.8.3"
  }
 },
 "nbformat": 4,
 "nbformat_minor": 4
}
